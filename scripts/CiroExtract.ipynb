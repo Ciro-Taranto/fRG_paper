{
 "cells": [
  {
   "cell_type": "code",
   "execution_count": 40,
   "metadata": {
    "collapsed": true
   },
   "outputs": [],
   "source": [
    "import numpy as np \n",
    "import sys \n",
    "import matplotlib\n",
    "import matplotlib.pyplot as plt\n",
    "%matplotlib inline\n",
    "import time\n",
    "import random\n",
    "import os \n",
    "from matplotlib import colors as mcolors\n"
   ]
  },
  {
   "cell_type": "markdown",
   "metadata": {},
   "source": [
    "## Loading the data"
   ]
  },
  {
   "cell_type": "code",
   "execution_count": 118,
   "metadata": {},
   "outputs": [],
   "source": [
    "unsortdata =  np.loadtxt(\"/home/taranto/Documents/dmf2rg_simple/data/tpri_0.080/rawdata_phasediag.dat\",comments=\"#\")  \n",
    "data = np.array( [ unsortdata[i] for i in np.lexsort((-unsortdata[:,0], unsortdata[:,4], unsortdata [:,3], unsortdata[:,-1]) ) ] ) \n",
    "tpri   = sorted(set(data[:,3]))\n",
    "occs   = sorted(set(data[:,4]))\n",
    "top    = np.array([data[(data[:,4]== n) & (data[:,-1]==0.)][-1] for n in occs])\n",
    "bottom = np.array([data[(data[:,4]== n) & (data[:,-1]==1.)][-1] for n in occs])\n",
    "top    = top[np.argsort(top[:,4])] \n",
    "bottom = bottom[np.argsort(bottom[:,4])]"
   ]
  },
  {
   "cell_type": "markdown",
   "metadata": {},
   "source": [
    "## Initialize figure and instability vectors"
   ]
  },
  {
   "cell_type": "code",
   "execution_count": 119,
   "metadata": {},
   "outputs": [
    {
     "name": "stdout",
     "output_type": "stream",
     "text": [
      "(16, 15)\n",
      "[   0.6           0.            3.14159265    2.0106193   101.73447692]\n",
      "[   0.625         0.            3.14159265    2.0106193   104.33213456]\n",
      "[   0.65          0.            3.14159265    2.0106193   104.62086355]\n",
      "[   0.675         0.            3.14159265    2.0106193   114.08737109]\n",
      "[   0.7           0.            3.14159265    2.0106193   106.25629174]\n",
      "[   0.725         0.            3.14159265    2.0106193   108.75776516]\n",
      "[   0.75          0.            3.14159265    2.0106193   121.66338171]\n",
      "[   0.775         0.            3.14159265    2.63893783  121.82220147]\n",
      "[   0.8           0.            3.14159265    2.63893783  111.61118564]\n",
      "[   0.825         0.            3.14159265    2.63893783  118.53994242]\n",
      "[   0.85          0.            3.14159265    2.63893783  111.17479947]\n",
      "[   0.875         0.            3.14159265    2.63893783  107.86440743]\n",
      "[   0.9           0.            3.14159265    2.63893783  115.73418692]\n",
      "[   0.925         0.            3.10478661    3.05273499  111.67675655]\n",
      "[   0.95          0.            3.14159265    3.14159265  126.83165592]\n",
      "[   0.975         0.            3.14159265    3.01592895  125.25755461]\n",
      "[  0.6          1.           0.           0.          19.21784936]\n",
      "[  0.625        1.           0.           0.          29.85917398]\n",
      "[   0.65          0.            3.14159265    2.0106193   112.34730814]\n",
      "[   0.675         0.            3.14159265    2.0106193   120.80699072]\n",
      "[   0.7           0.            3.14159265    2.0106193   121.57798066]\n",
      "[   0.725         0.            3.14159265    2.0106193   136.39136103]\n",
      "[   0.75          0.            3.14159265    2.0106193   126.3106828 ]\n",
      "[   0.775         0.            3.14159265    2.0106193   111.59734924]\n",
      "[   0.8           0.            3.14159265    2.0106193   109.33671132]\n",
      "[   0.825         0.            3.14159265    2.63893783  115.82993083]\n",
      "[   0.85          0.            3.14159265    3.14159265  137.48265573]\n",
      "[   0.875         0.            3.14159265    3.14159265  100.20948518]\n",
      "[   0.9           0.            3.14159265    2.63893783  106.47512343]\n",
      "[   0.925         0.            3.14159265    2.63893783  101.83806622]\n",
      "[   0.95          0.            3.14159265    2.63893783  115.43033811]\n",
      "[   0.975         0.            3.14159265    2.63893783  141.0251604 ]\n"
     ]
    },
    {
     "data": {
      "text/plain": [
       "<matplotlib.figure.Figure at 0x7fdc529a2e10>"
      ]
     },
     "metadata": {},
     "output_type": "display_data"
    }
   ],
   "source": [
    "#create an instance of the figure \n",
    "#plt.style.use(\"fivethirtyeight\")\n",
    "#plt.rcParams.update(plt.rcParamsDefault)\n",
    "\n",
    "fig = plt.figure(facecolor ='w') \n",
    "#ax = fig.add_subplot(111)\n",
    "#possible instability vectors \n",
    "def getvec(arr): \n",
    "    vectors    = np.vstack({tuple(row) for row in np.array([[a[6],a[7],a[5]] for a in arr])})\n",
    "    wh = [np.where((arr[:,6]==v[0]) & (arr[:,7]==v[1])) for v in vectors]\n",
    "    span = np.array([[np.min(arr[w,4]),np.max(arr[w,4])] for w in wh])\n",
    "    vectors = vectors[np.argsort(span[:,0])]\n",
    "    span = span[np.argsort(span[:,0])]\n",
    "    rec = [1.-span[0][0]]\n",
    "    for i in range(span.shape[0]-1): rec.append(1.-(span[i][1]+span[i+1][0])/2.)\n",
    "    rec.append(1.-span[-1][1])\n",
    "    return vectors, span , rec\n",
    "vectorsb,spanb, recb = getvec(bottom)\n",
    "vectorst,spant, rect = getvec(top)\n",
    "print top.shape\n",
    "for t in bottom:\n",
    "    print t[4:9]  \n",
    "for t in top : \n",
    "    print t[4:9]"
   ]
  },
  {
   "cell_type": "code",
   "execution_count": 110,
   "metadata": {},
   "outputs": [
    {
     "data": {
      "text/plain": [
       "[(0.0, 0.0, 0.0),\n",
       " (0.0, 0.0, 0.0),\n",
       " (0.031372549019607843, 0.2897347174163783, 0.570319108035371, 1.0),\n",
       " (0.031372549019607843, 0.2897347174163783, 0.570319108035371, 1.0),\n",
       " (0.031372549019607843, 0.2897347174163783, 0.570319108035371, 1.0),\n",
       " (0.031372549019607843, 0.2897347174163783, 0.570319108035371, 1.0),\n",
       " (0.031372549019607843, 0.2897347174163783, 0.570319108035371, 1.0),\n",
       " (0.031372549019607843, 0.2897347174163783, 0.570319108035371, 1.0),\n",
       " (0.031372549019607843, 0.2897347174163783, 0.570319108035371, 1.0),\n",
       " (0.57960784313725489, 0.7701960784313725, 0.87372549019607837, 1.0),\n",
       " (0.96862745098039216, 0.98431372549019602, 1.0, 1.0),\n",
       " (0.96862745098039216, 0.98431372549019602, 1.0, 1.0),\n",
       " (0.57960784313725489, 0.7701960784313725, 0.87372549019607837, 1.0),\n",
       " (0.57960784313725489, 0.7701960784313725, 0.87372549019607837, 1.0),\n",
       " (0.57960784313725489, 0.7701960784313725, 0.87372549019607837, 1.0),\n",
       " (0.57960784313725489, 0.7701960784313725, 0.87372549019607837, 1.0)]"
      ]
     },
     "execution_count": 110,
     "metadata": {},
     "output_type": "execute_result"
    }
   ],
   "source": [
    "Blues = plt.get_cmap('Blues')\n",
    "Greens= plt.get_cmap('Greens')\n",
    "def asscol(arr,vectors,cmap): \n",
    "    colmap  = plt.get_cmap(cmap)\n",
    "    offs    = 0.1 \n",
    "    def dpp(a,b): \n",
    "        return np.sqrt((a-np.pi)**2.+(b-np.pi)**2)\n",
    "    M=np.max([dpp(v[0],v[1]) for v in vectors[vectors[:,-1]==0.]])\n",
    "    m=np.min([dpp(v[0],v[1]) for v in vectors[vectors[:,-1]==0.]])\n",
    "    d = [ dpp(v[0],v[1])*(1.-offs)/(M-m)for v in vectors] # how much each vector is close to pi,pi\n",
    "    colspan = [colmap(d[i]) if vectors[i,-1]==0. else matplotlib.colors.to_rgb(\"black\")  for i in range(vectors.shape[0])] \n",
    "    def cond(i,j): \n",
    "        return (arr[i][6]==vectors[j][0]) & (arr[i][7]==vectors[j][1]) & (arr[i,5] == vectors[j][2])\n",
    "    return [ [colspan[j] for j in range(vectors.shape[0]) if cond(i,j)][0]   for i in range(arr.shape[0])]    \n",
    "def marks(arr): \n",
    "    return  ['o' if a[5]==0 else '*' for a in arr ]\n",
    "#asscol(top,vectorst,'Blues')"
   ]
  },
  {
   "cell_type": "code",
   "execution_count": 130,
   "metadata": {},
   "outputs": [
    {
     "data": {
      "image/png": "[encoded data removed]",
      "text/plain": [
       "<matplotlib.figure.Figure at 0x7fdc52b468d0>"
      ]
     },
     "metadata": {},
     "output_type": "display_data"
    }
   ],
   "source": [
    "def form(a): \n",
    "    return \"{:3.2f}\".format(a)\n",
    "\n",
    "ax = fig.add_subplot(111)\n",
    "lcol=np.array(asscol(top,vectorst,'Reds'))[top[:,5]==0.]\n",
    "\n",
    "if np.sum([1. for v in top[top[:,5]==1.]])>0.5 :     \n",
    "    plt.axvspan(1.-np.min(top[top[:,5]==1,4]),1.-np.max(top[top[:,5]==1,4]),linestyle ='dashed',color = 'grey',alpha=0.2)\n",
    "    plt.scatter(1.-top[top[:,5]==1.,4],top[top[:,5]==1.,0],c='black', s = 100.0, marker='*', edgecolor='black', linewidth='0.6')#,label =r'without $\\Sigma$')\n",
    "\n",
    "plt.plot(1.-top[:,4],top[:,0],color='grey',linestyle='dotted',label =r'without $\\Sigma$')\n",
    "plt.plot(1.-bottom[:,4],bottom[:,0],color='grey',linestyle ='dashed', label = r'with $\\Sigma$')\n",
    "plt.scatter(1.-bottom[:,4],bottom[:,0],c=asscol(bottom,vectorsb,'Reds'),marker='o',edgecolor='black', linewidth='0.6')# label = r'with $\\Sigma$')\n",
    "plt.scatter(1.-top[top[:,5]==0,4],top[top[:,5]==0,0],c=lcol, marker='s',edgecolor='black', linewidth='0.6')#,label =r'without $\\Sigma$')\n",
    "\n",
    "\n",
    "rectangles = False\n",
    "if rectangles : \n",
    "    for i in range(1,vectorsb.shape[0]-1): \n",
    "        #lab = r'('+form(vectorsb[i][0])+r','+form(vectorsb[i][1])+r')'\n",
    "        ax.axvspan(recb[i],recb[i+1],alpha=0.5,fill=False, linestyle = 'dashed')# color = colorsb[i],label=lab) \n",
    "    for i in range(1,vectorst.shape[0]-1):\n",
    "        ax.axvspan(rect[i],rect[i+1],alpha=0.5,fill=False, linestyle = 'dotted')\n",
    "plt.grid(linestyle='dashed')\n",
    "plt.legend()\n",
    "plt.xlabel(r\"$\\delta$\",fontsize=20)\n",
    "plt.ylabel(r\"$1-\\Lambda_{\\mathrm{c}}$\",fontsize=20)\n",
    "plt.savefig('/home/taranto/Documents/dmf2rg_simple/data/tpri_0.085/jup_phase_diagram.png') \n",
    "#os.system('geequie /home/taranto/Documents/dmf2rg_simple/data/tpri_0.085/jup_phase_diagram.png &')"
   ]
  },
  {
   "cell_type": "code",
   "execution_count": null,
   "metadata": {
    "collapsed": true
   },
   "outputs": [],
   "source": []
  },
  {
   "cell_type": "code",
   "execution_count": null,
   "metadata": {
    "collapsed": true
   },
   "outputs": [],
   "source": []
  }
 ],
 "metadata": {
  "kernelspec": {
   "display_name": "Python 2",
   "language": "python",
   "name": "python2"
  },
  "language_info": {
   "codemirror_mode": {
    "name": "ipython",
    "version": 2
   },
   "file_extension": ".py",
   "mimetype": "text/x-python",
   "name": "python",
   "nbconvert_exporter": "python",
   "pygments_lexer": "ipython2",
   "version": "2.7.13"
  }
 },
 "nbformat": 4,
 "nbformat_minor": 2
}
