{
 "cells": [
  {
   "cell_type": "code",
   "execution_count": 55,
   "metadata": {
    "collapsed": true
   },
   "outputs": [],
   "source": [
    "import numpy as np \n",
    "import sys \n",
    "import matplotlib\n",
    "import matplotlib.pyplot as plt\n",
    "%matplotlib inline\n",
    "import time\n",
    "import random\n",
    "import os \n",
    "from matplotlib import colors as mcolors\n",
    "\n"
   ]
  },
  {
   "cell_type": "code",
   "execution_count": 92,
   "metadata": {},
   "outputs": [],
   "source": [
    "def myform(a): \n",
    "    return \"{:3.1f}\".format(a)\n",
    "def readdata(filename, occupation): \n",
    "    unsortdata =  np.loadtxt(filename,comments=\"#\")\n",
    "    unsortsel = unsortdata[unsortdata[:,4]==occupation]\n",
    "    if len(unsortsel)==0: sys.exit(\"no data with the required occupation\")\n",
    "    order = np.lexsort((-unsortsel[:,0], unsortsel[:,4], unsortsel [:,3], unsortsel[:,-1]))    \n",
    "    data = np.array([unsortsel[i] for i in order ])\n",
    "    return data[data[:,-1]==0],data[data[:,-1]==1]\n",
    "top, bottom = readdata(\"/home/taranto/Documents/dmf2rg_simple/data/tpri_0.080/rawdata_phasediag.dat\",0.600)\n",
    "    "
   ]
  },
  {
   "cell_type": "code",
   "execution_count": 128,
   "metadata": {
    "collapsed": true
   },
   "outputs": [],
   "source": [
    "def complot(x,y,col,mark,al,lin,collab = None ):\n",
    "    plt.plot(x,y,color='black',linestyle=lin)\n",
    "    if collab is not None: \n",
    "        plt.scatter(x,y,marker = mark,color=col,alpha=al,s=40, label = collab,edgecolor = 'black', linewidth=0.6)\n",
    "    else: \n",
    "        plt.scatter(x,y,marker = mark,color=col,alpha=al,s =40, edgecolor = 'black', linewidth=0.6)   \n",
    "def applyPlotStyle():\n",
    "    ax.set_xticks(np.arange(0.,1.,0.1))\n",
    "    ax.set_xticklabels([myform(a) for a in np.arange(0.,1.,0.1)])\n",
    "    ax.set_xlim(np.min(bottom[-1,0],top[-1,0]),0.6)\n",
    "    ax.xaxis.grid(linestyle='dashed')\n",
    "    ax.set_xscale('log')\n",
    "    ax.legend()\n",
    "    "
   ]
  },
  {
   "cell_type": "code",
   "execution_count": 141,
   "metadata": {},
   "outputs": [
    {
     "data": {
      "text/plain": [
       "0"
      ]
     },
     "execution_count": 141,
     "metadata": {},
     "output_type": "execute_result"
    },
    {
     "data": {
      "image/png": "[encoded data removed]",
      "text/plain": [
       "<matplotlib.figure.Figure at 0x7f439b40b3d0>"
      ]
     },
     "metadata": {},
     "output_type": "display_data"
    }
   ],
   "source": [
    "plt.clf()\n",
    "plt.rcParams['legend.scatterpoints'] = 1\n",
    "plt.figure(1)\n",
    "#subfigure 1 : without self energy\n",
    "ax1=plt.subplot(211) \n",
    "complot((top[:,0]),top[:,8],'red','s',1.0,'dotted',collab=r'$\\mathrm{max}(\\mathcal{M})$')     \n",
    "complot((top[:,0]),top[:,9],'black','s',0.7,'dotted',collab=r'$\\mathrm{max}(\\mathcal{C})$')\n",
    "ax1.set_title('without $\\Sigma$')\n",
    "ax1.set_xticks(np.arange(0.,1.,0.1))\n",
    "ax1.set_xticklabels([myform(a) for a in np.arange(0.,1.,0.1)])\n",
    "ax1.set_xlim(np.min(bottom[-1,0],top[-1,0]),0.6)\n",
    "ax1.xaxis.grid(linestyle='dashed')\n",
    "ax1.set_ylim([0.,40.])\n",
    "ax1.set_xscale('log')\n",
    "ax1.legend()\n",
    "#subfigure 2 : with self energy \n",
    "ax2=plt.subplot(212,sharex=ax1,sharey=ax1)\n",
    "complot((bottom[:,0]),bottom[:,8],'red','o',1.0,'dotted',collab=r'$\\mathrm{max}(\\mathcal{M})$')     \n",
    "complot((bottom[:,0]),bottom[:,9],'black','o',0.7,'dotted',collab=r'$\\mathrm{max}(\\mathcal{C})$')\n",
    "ax2.set_title('with $\\Sigma$')\n",
    "\n",
    "\n",
    "namefig = '/home/taranto/Documents/fRG_paper/images/scale_evolution.png'\n",
    "plt.savefig(namefig)\n",
    "os.system('geeqie '+namefig+' &')\n"
   ]
  },
  {
   "cell_type": "code",
   "execution_count": null,
   "metadata": {
    "collapsed": true
   },
   "outputs": [],
   "source": []
  },
  {
   "cell_type": "code",
   "execution_count": null,
   "metadata": {
    "collapsed": true
   },
   "outputs": [],
   "source": []
  }
 ],
 "metadata": {
  "kernelspec": {
   "display_name": "Python 2.7",
   "language": "python",
   "name": "python_2.7"
  },
  "language_info": {
   "codemirror_mode": {
    "name": "ipython",
    "version": 2
   },
   "file_extension": ".py",
   "mimetype": "text/x-python",
   "name": "python",
   "nbconvert_exporter": "python",
   "pygments_lexer": "ipython2",
   "version": "2.7.13"
  }
 },
 "nbformat": 4,
 "nbformat_minor": 2
}
