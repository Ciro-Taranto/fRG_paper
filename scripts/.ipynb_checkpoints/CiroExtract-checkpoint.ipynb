{
 "cells": [
  {
   "cell_type": "code",
   "execution_count": 1,
   "metadata": {
    "collapsed": true
   },
   "outputs": [],
   "source": [
    "import numpy as np \n",
    "import sys \n",
    "import matplotlib\n",
    "import matplotlib.pyplot as plt\n",
    "%matplotlib inline\n",
    "import time\n",
    "import random\n",
    "import os \n",
    "from matplotlib import colors as mcolors\n"
   ]
  },
  {
   "cell_type": "markdown",
   "metadata": {},
   "source": [
    "## Loading the data"
   ]
  },
  {
   "cell_type": "code",
   "execution_count": 41,
   "metadata": {},
   "outputs": [],
   "source": [
    "unsortdata =  np.loadtxt(\"/home/taranto/Documents/dmf2rg_simple/data/tpri_0.080/rawdata_phasediag.dat\",comments=\"#\")  \n",
    "data = np.array( [ unsortdata[i] for i in np.lexsort((-unsortdata[:,0], unsortdata[:,4], unsortdata [:,3], unsortdata[:,-1]) ) ] ) \n",
    "st = 50. # defines the stopping scale\n",
    "loc = np.where( (data[:,8] > st) | (data[:,9] > st) | (data[:,10] > st) |(data[:,11] > st)  ) \n",
    "data = data[loc]\n",
    "tpri   = sorted(set(data[:,3]))\n",
    "occs   = sorted(set(data[:,4]))\n",
    "top    = np.array([data[(data[:,4]== n) & (data[:,-1]==0.)][0] for n in occs])\n",
    "bottom = np.array([data[(data[:,4]== n) & (data[:,-1]==1.)][0] for n in occs])\n",
    "top    = top[np.argsort(top[:,4])] \n",
    "bottom = bottom[np.argsort(bottom[:,4])]"
   ]
  },
  {
   "cell_type": "markdown",
   "metadata": {},
   "source": [
    "## Initialize figure and instability vectors"
   ]
  },
  {
   "cell_type": "code",
   "execution_count": 87,
   "metadata": {},
   "outputs": [
    {
     "name": "stdout",
     "output_type": "stream",
     "text": [
      "(16, 15)\n",
      "[  0.6          1.           0.           0.          16.89654988]\n",
      "[  0.625        1.           0.           0.          24.19209376]\n",
      "[  0.65         0.           3.14159265   2.0106193   50.23688201]\n",
      "[  0.675        0.           3.14159265   2.0106193   56.39519352]\n",
      "[  0.7          0.           3.14159265   2.0106193   73.37385912]\n",
      "[  0.725        0.           3.14159265   2.0106193   54.18754256]\n",
      "[  0.75         0.           3.14159265   2.0106193   57.37452823]\n",
      "[  0.775        0.           3.14159265   2.0106193   52.6221785 ]\n",
      "[  0.8          0.           3.14159265   2.0106193   51.30393141]\n",
      "[  0.825        0.           3.14159265   2.63893783  59.23128006]\n",
      "[  0.85         0.           3.14159265   3.14159265  79.81539032]\n",
      "[  0.875        0.           3.14159265   3.14159265  84.81571846]\n",
      "[  0.9          0.           3.14159265   2.63893783  52.06003142]\n",
      "[  0.925        0.           3.14159265   2.63893783  52.96954631]\n",
      "[  0.95         0.           3.14159265   2.63893783  73.56680894]\n",
      "[  0.975        0.           3.14159265   2.63893783  55.73881471]\n"
     ]
    },
    {
     "data": {
      "text/plain": [
       "<matplotlib.figure.Figure at 0x7f4af44e4a50>"
      ]
     },
     "metadata": {},
     "output_type": "display_data"
    }
   ],
   "source": [
    "#create an instance of the figure \n",
    "#plt.style.use(\"fivethirtyeight\")\n",
    "#plt.rcParams.update(plt.rcParamsDefault)\n",
    "\n",
    "fig = plt.figure(facecolor ='w') \n",
    "#ax = fig.add_subplot(111)\n",
    "#possible instability vectors \n",
    "def getvec(arr): \n",
    "    vectors    = np.vstack({tuple(row) for row in np.array([[a[6],a[7],a[5]] for a in arr])})\n",
    "    wh = [np.where((arr[:,6]==v[0]) & (arr[:,7]==v[1])) for v in vectors]\n",
    "    span = np.array([[np.min(arr[w,4]),np.max(arr[w,4])] for w in wh])\n",
    "    vectors = vectors[np.argsort(span[:,0])]\n",
    "    span = span[np.argsort(span[:,0])]\n",
    "    rec = [1.-span[0][0]]\n",
    "    for i in range(span.shape[0]-1): rec.append(1.-(span[i][1]+span[i+1][0])/2.)\n",
    "    rec.append(1.-span[-1][1])\n",
    "    return vectors, span , rec\n",
    "vectorsb,spanb, recb = getvec(bottom)\n",
    "vectorst,spant, rect = getvec(top)\n",
    "print top.shape\n",
    "for t in top : \n",
    "    print t[4:9]"
   ]
  },
  {
   "cell_type": "code",
   "execution_count": 43,
   "metadata": {},
   "outputs": [],
   "source": [
    "Blues = plt.get_cmap('Blues')\n",
    "Greens= plt.get_cmap('Greens')\n",
    "def asscol(arr,vectors,cmap): \n",
    "    colmap  = plt.get_cmap(cmap)\n",
    "    offs    = 0.1 \n",
    "    def dpp(a,b): \n",
    "        return np.sqrt((a-np.pi)**2.+(b-np.pi)**2)\n",
    "    M=np.max([dpp(v[0],v[1]) for v in vectors[vectors[:,-1]==0.]])\n",
    "    m=np.min([dpp(v[0],v[1]) for v in vectors[vectors[:,-1]==0.]])\n",
    "    d = [ dpp(v[0],v[1])*(1.-offs)/(M-m)for v in vectors] # how much each vector is close to pi,pi\n",
    "    colspan = [colmap(d[i]) if vectors[i,-1]==0. else matplotlib.colors.to_rgb(\"black\")  for i in range(vectors.shape[0])] \n",
    "    def cond(i,j): \n",
    "        return (arr[i][6]==vectors[j][0]) & (arr[i][7]==vectors[j][1]) & (arr[i,5] == vectors[j][2])\n",
    "    return [ [colspan[j] for j in range(vectors.shape[0]) if cond(i,j)][0]   for i in range(arr.shape[0])]    \n",
    "def marks(arr): \n",
    "    return  ['o' if a[5]==0 else '*' for a in arr ]\n",
    "#asscol(top,vectorst,'Blues')"
   ]
  },
  {
   "cell_type": "code",
   "execution_count": 167,
   "metadata": {},
   "outputs": [],
   "source": [
    "inco  =  np.where ( (top[:,5] ==0. ) & ( (np.abs(top[:,6]-np.pi)>1.e-1)  | (np.abs(top[:,7] -np.pi) > 1.e-1)) )\n",
    "comme =  np.where (top[:,5] ==0. ) and np.where (  (np.abs(top[:,6]-np.pi)<1.e-1)  & (np.abs(top[:,7] -np.pi) < 1.e-1) )\n",
    "char  =  np.where (top[:,5] ==1.)"
   ]
  },
  {
   "cell_type": "code",
   "execution_count": 166,
   "metadata": {},
   "outputs": [
    {
     "data": {
      "image/png": "[encoded data removed]",
      "text/plain": [
       "<matplotlib.figure.Figure at 0x7f4af116ad90>"
      ]
     },
     "metadata": {},
     "output_type": "display_data"
    }
   ],
   "source": [
    "def form(a): \n",
    "    return \"{:3.2f}\".format(a)\n",
    "\n",
    "ax = fig.add_subplot(111)\n",
    "\n",
    "lcol=np.array(asscol(top,vectorst,'Reds'))[inco]\n",
    "commcol = np.array(asscol(top,vectorst,'Reds'))[comme]\n",
    " \n",
    "def util(a):\n",
    "    #return 1.-(1.-a)**2 \n",
    "    return a\n",
    "plt.plot(1.-top[:,4],util(top[:,0]),color='grey',linestyle='dotted')\n",
    "plt.plot(1.-bottom[:,4],util(bottom[:,0]),color='grey',linestyle ='dashed')\n",
    "plt.scatter(1.-bottom[:,4],util(bottom[:,0]),c=asscol(bottom,vectorsb,'Reds'),marker='o',edgecolor='black', linewidth='0.6',label =r'iAF, without $\\Sigma$')# label = r'with $\\Sigma$')\n",
    "plt.scatter(1.-top[inco,4],util(top[inco,0]),c=lcol, marker='s',edgecolor='black', linewidth='0.6', label = r'iAF, with $\\Sigma$')#,label =r'without $\\Sigma$')\n",
    "plt.scatter(1.-top[comme,4],util(top[comme,0]),c=commcol, marker='D',edgecolor='black', linewidth='0.6', label = r'AF, with $\\Sigma$')\n",
    "\n",
    "\n",
    "if np.sum([1. for v in top[top[:,5]==1.]])>0.5 :     \n",
    "    plt.axvspan(1.-np.min(top[top[:,5]==1,4]),1.-np.max(top[top[:,5]==1,4]),linestyle ='dashed',color = 'grey',alpha=0.2)\n",
    "    plt.scatter(1.-top[top[:,5]==1.,4],util(top[top[:,5]==1.,0]),c='black', s = 100.0, marker='*', edgecolor='black', linewidth='0.6',label =r'Charge, without $\\Sigma$')#,label =r'without $\\Sigma$')\n",
    "\n",
    "\n",
    "rectangles = False\n",
    "if rectangles : \n",
    "    for i in range(1,vectorsb.shape[0]-1): \n",
    "        #lab = r'('+form(vectorsb[i][0])+r','+form(vectorsb[i][1])+r')'\n",
    "        ax.axvspan(recb[i],recb[i+1],alpha=0.5,fill=False, linestyle = 'dashed')# color = colorsb[i],label=lab) \n",
    "    for i in range(1,vectorst.shape[0]-1):\n",
    "        ax.axvspan(rect[i],rect[i+1],alpha=0.5,fill=False, linestyle = 'dotted')\n",
    "plt.ylim([0.06, 0.21])\n",
    "plt.grid(linestyle='dashed')\n",
    "plt.legend(fontsize = 16)\n",
    "plt.xlabel(r\"$1-n$\",fontsize=20)\n",
    "plt.ylabel(r\"$1-\\Lambda_{\\mathrm{c}}$\",fontsize=20)\n",
    "for i in  range(len(plt.gca().get_legend().legendHandles)):\n",
    "    plt.gca().get_legend().legendHandles[i].set_color('white')\n",
    "    plt.gca().get_legend().legendHandles[i].set_edgecolor('black')\n",
    "plt.savefig('/home/taranto/Documents/fRG_paper/images/jup_criscale.png',dpi=300) \n",
    "#os.system('geequie /home/taranto/Documents/fRG_paper/imaeges/criscale.png &')"
   ]
  },
  {
   "cell_type": "code",
   "execution_count": 68,
   "metadata": {},
   "outputs": [
    {
     "name": "stdout",
     "output_type": "stream",
     "text": [
      "[[ 3.14159265  2.0106193   0.        ]\n",
      " [ 3.14159265  2.63893783  0.        ]\n",
      " [ 3.10478661  3.05273499  0.        ]\n",
      " [ 3.14159265  3.01592895  0.        ]]\n",
      "[[ 0.          0.          1.        ]\n",
      " [ 3.14159265  2.0106193   0.        ]\n",
      " [ 3.14159265  2.63893783  0.        ]\n",
      " [ 3.14159265  3.14159265  0.        ]]\n"
     ]
    }
   ],
   "source": [
    "print vectorsb \n",
    "print vectorst"
   ]
  },
  {
   "cell_type": "code",
   "execution_count": 69,
   "metadata": {},
   "outputs": [
    {
     "data": {
      "text/plain": [
       "1.130973353589793"
      ]
     },
     "execution_count": 69,
     "metadata": {},
     "output_type": "execute_result"
    }
   ],
   "source": [
    "np.pi- 2.0106193"
   ]
  },
  {
   "cell_type": "code",
   "execution_count": null,
   "metadata": {
    "collapsed": true
   },
   "outputs": [],
   "source": []
  }
 ],
 "metadata": {
  "kernelspec": {
   "display_name": "Python 2",
   "language": "python",
   "name": "python2"
  },
  "language_info": {
   "codemirror_mode": {
    "name": "ipython",
    "version": 2
   },
   "file_extension": ".py",
   "mimetype": "text/x-python",
   "name": "python",
   "nbconvert_exporter": "python",
   "pygments_lexer": "ipython2",
   "version": "2.7.13"
  }
 },
 "nbformat": 4,
 "nbformat_minor": 2
}
