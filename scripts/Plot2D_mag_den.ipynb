{
 "cells": [
  {
   "cell_type": "code",
   "execution_count": 1,
   "metadata": {},
   "outputs": [],
   "source": [
    "import numpy as np\n",
    "from matplotlib import rc\n",
    "import matplotlib.pyplot as plt\n",
    "%matplotlib inline"
   ]
  },
  {
   "cell_type": "code",
   "execution_count": 28,
   "metadata": {
    "collapsed": true
   },
   "outputs": [],
   "source": [
    "cmap = 'jet'"
   ]
  },
  {
   "cell_type": "code",
   "execution_count": 29,
   "metadata": {},
   "outputs": [
    {
     "name": "stdout",
     "output_type": "stream",
     "text": [
      "(30, 30) min, max:  15.39249121 18.72840672\n"
     ]
    },
    {
     "data": {
      "image/png": "[encoded data removed]",
      "text/plain": [
       "<matplotlib.figure.Figure at 0x7f9b619c4650>"
      ]
     },
     "metadata": {},
     "output_type": "display_data"
    }
   ],
   "source": [
    "    plt.clf()\n",
    "\n",
    "    matriciona = np.loadtxt('./Phi_mag.txt')\n",
    "\n",
    "    center = matriciona.shape[0]/2\n",
    "    print np.shape(matriciona), \"min, max: \", np.min(matriciona), np.max(matriciona)\n",
    "    x = np.arange(-matriciona.shape[0]/2, matriciona.shape[0]/2)\n",
    "   \n",
    "    plt.pcolormesh(x,x,matriciona[:],cmap=cmap)\n",
    "    plt.colorbar(orientation= \"vertical\")\n",
    " \n",
    "    plt.xlim([x[0],x[-1]])\n",
    "    plt.ylim([x[0],x[-1]])\n",
    "\n",
    "    plt.xlabel(r'$\\nu_1$', fontsize=14)\n",
    "    plt.ylabel(r'$\\nu_2$', fontsize=14)\n",
    "    plt.gca().set_aspect(1)\n",
    "    \n",
    "    plt.title(r'$\\mathcal{M}^{\\mathrm{\\Lambda}_c}$, $\\mathbf{Q}=(\\pi,\\pi-\\delta)$, $\\Omega=0$', fontsize=18)\n",
    "    plt.savefig('Phi_mag.png',dpi=300)"
   ]
  },
  {
   "cell_type": "code",
   "execution_count": 30,
   "metadata": {
    "scrolled": true
   },
   "outputs": [
    {
     "name": "stdout",
     "output_type": "stream",
     "text": [
      "(30, 30) min, max:  -125.00753604 -5.57281919\n"
     ]
    },
    {
     "data": {
      "image/png": "[encoded data removed]",
      "text/plain": [
       "<matplotlib.figure.Figure at 0x7f9b61afb190>"
      ]
     },
     "metadata": {},
     "output_type": "display_data"
    }
   ],
   "source": [
    "    plt.clf()\n",
    "\n",
    "    matriciona = np.loadtxt('./Phi_den.txt')\n",
    "\n",
    "    center = matriciona.shape[0]/2\n",
    "    print np.shape(matriciona), \"min, max: \", np.min(matriciona), np.max(matriciona)\n",
    "    x = np.arange(-matriciona.shape[0]/2, matriciona.shape[0]/2)\n",
    "   \n",
    "    plt.pcolormesh(x,x,matriciona[:],cmap=cmap)\n",
    "    plt.colorbar(orientation= \"vertical\")\n",
    " \n",
    "    plt.xlim([x[0],x[-1]])\n",
    "    plt.ylim([x[0],x[-1]])\n",
    "\n",
    "    plt.xlabel(r'$\\nu_1$', fontsize=14)\n",
    "    plt.ylabel(r'$\\nu_2$', fontsize=14)\n",
    "    plt.gca().set_aspect(1)\n",
    "    \n",
    "    plt.title(r'$\\mathcal{C}^{\\mathrm{\\Lambda}_c}$, $\\mathbf{Q}=(0,0)$, $\\Omega=2\\pi/\\beta$', fontsize=18)\n",
    "    plt.savefig('Phi_den.png')"
   ]
  },
  {
   "cell_type": "code",
   "execution_count": null,
   "metadata": {
    "collapsed": true
   },
   "outputs": [],
   "source": []
  },
  {
   "cell_type": "code",
   "execution_count": null,
   "metadata": {
    "collapsed": true
   },
   "outputs": [],
   "source": []
  }
 ],
 "metadata": {
  "kernelspec": {
   "display_name": "Python 2",
   "language": "python",
   "name": "python2"
  },
  "language_info": {
   "codemirror_mode": {
    "name": "ipython",
    "version": 2
   },
   "file_extension": ".py",
   "mimetype": "text/x-python",
   "name": "python",
   "nbconvert_exporter": "python",
   "pygments_lexer": "ipython2",
   "version": "2.7.13"
  }
 },
 "nbformat": 4,
 "nbformat_minor": 2
}
