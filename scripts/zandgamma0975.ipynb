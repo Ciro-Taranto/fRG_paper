{
 "cells": [
  {
   "cell_type": "code",
   "execution_count": 1,
   "metadata": {
    "collapsed": true
   },
   "outputs": [],
   "source": [
    "import numpy as np\n",
    "import matplotlib.pyplot as plt \n",
    "from matplotlib.ticker import MaxNLocator\n",
    "%matplotlib inline"
   ]
  },
  {
   "cell_type": "code",
   "execution_count": 2,
   "metadata": {
    "collapsed": true
   },
   "outputs": [],
   "source": [
    "def selfload(namefile): \n",
    "    return np.loadtxt(namefile)"
   ]
  },
  {
   "cell_type": "code",
   "execution_count": 3,
   "metadata": {},
   "outputs": [],
   "source": [
    "self = selfload('../data/Self_energy_fill_0.975_Im.txt')\n"
   ]
  },
  {
   "cell_type": "code",
   "execution_count": 4,
   "metadata": {
    "collapsed": true
   },
   "outputs": [],
   "source": [
    "def nonlintheta(ntheta) :\n",
    "    return np.array([ np.pi/4.*(1.-np.cos(np.pi/2.*i/(ntheta-1.))) for i in range(ntheta) ]   )\n",
    "def FSPatch(ntheta, nrad):\n",
    "    def nonlinrad(i):\n",
    "        return np.cos(np.pi/2. * (i+1.)/(nrad+1.))\n",
    "    index = 1\n",
    "    for nr in range(nrad):\n",
    "        nt = np.rint(ntheta * nonlinrad(nr)**2)\n",
    "        index  += 2* (nt if nt >1 else 2 )\n",
    "    return int(index)\n",
    "\n",
    "def find_zg(self,iQ,gd=3,fit=4):\n",
    "    T = 0.08\n",
    "    def fitFLproperties(nfit,deg):\n",
    "        if deg > nfit: \n",
    "            print \"overfitting?\"\n",
    "            return \n",
    "        x = np.array([T*np.pi*(2*i+1.) for i in range(nfit)])\n",
    "        y = np.array([self[i,iQ]      for i in range(nfit)])\n",
    "        return np.polyfit(x,y,deg)\n",
    "    coeff = fitFLproperties(fit,gd)\n",
    "    zk     =  1./(1.-coeff[-2])\n",
    "    gk     =  coeff[-1]\n",
    "    return zk, gk"
   ]
  },
  {
   "cell_type": "code",
   "execution_count": 8,
   "metadata": {},
   "outputs": [
    {
     "name": "stdout",
     "output_type": "stream",
     "text": [
      "0.753708642785\n"
     ]
    },
    {
     "data": {
      "image/png": "[encoded data removed]",
      "text/plain": [
       "<matplotlib.figure.Figure at 0x7f4e6e7fb9d0>"
      ]
     },
     "metadata": {},
     "output_type": "display_data"
    }
   ],
   "source": [
    "fs = 15\n",
    "fig = plt.figure(facecolor ='w') \n",
    "ax1 = fig.add_subplot(111)\n",
    "#ax1.set_ylim(0.5,1.)\n",
    "ntheta=10\n",
    "dg=2\n",
    "fit=3\n",
    "zet = ax1.plot(nonlintheta(ntheta),[find_zg(self,iQ,gd=dg,fit=fit)[0] for iQ in range(self.shape[1]-11,self.shape[1]-11+ntheta)],'-o',color='red',linestyle ='dashed',\n",
    "         markeredgecolor= 'black',markersize=8.0,label=r\"$\\mathcal{Z}_\\mathbf{k}$\")\n",
    "ax1.set_xlabel(r'$\\theta/\\pi$',fontsize=fs)\n",
    "ax1.set_xticks(np.arange(0.,0.251*np.pi,0.125*np.pi))\n",
    "ax1.set_xticklabels([r'$0$',r'$0.125$',r'$0.25$' ],fontsize=fs)\n",
    "ax2=ax1.twinx()\n",
    "gam = ax2.plot(nonlintheta(ntheta),[-find_zg(self,iQ,gd=dg,fit=fit)[1] for iQ in range(self.shape[1]-11,self.shape[1]-11+ntheta)],'-s',color='steelblue',linestyle ='dotted',\n",
    "         markeredgecolor= 'black',markersize=8.0,label=r\"$|\\gamma |$\")\n",
    "fer = zet + gam\n",
    "labs = [l.get_label() for l in fer ]\n",
    "ax1.legend(fer, labs,fontsize=fs,loc=(0.05,0.5))\n",
    "ax2.set_ylabel(r'$|\\gamma|$',fontsize=fs+4)\n",
    "\n",
    "ax3=plt.axes([0.6,0.43,0.25,0.25])\n",
    "ax3.plot(nonlintheta(ntheta),[find_zg(self,iQ,gd=dg,fit=fit)[0] for iQ in range(self.shape[1]-11,self.shape[1]-11+ntheta)],'-o',color='red',linestyle ='dashed',\n",
    "         markeredgecolor= 'black',markersize=6.0,label=r\"$\\mathcal{Z}$\")\n",
    "ax3.set_ylim(0,1.)\n",
    "ax1.set_ylabel(r'$\\mathcal{Z}$',fontsize=fs)\n",
    "ax1.tick_params(labelsize=fs)\n",
    "ax2.tick_params(labelsize=fs)\n",
    "ax3.set_ylabel(r'$\\mathcal{Z}$',fontsize=12)\n",
    "ax3.set_xlabel(r'$\\theta/\\pi$',fontsize=fs)\n",
    "ax3.set_xticks(np.arange(0.,0.251*np.pi,0.125*np.pi))\n",
    "ax3.set_xticklabels([r'$0$',r'$0.125$',r'$0.25$' ],fontsize=12)\n",
    "print ax1.get_ylim()[0]\n",
    "#ax1.set_ylim([0.73,0.78])\n",
    "ax1.text(-0.05,ax1.get_ylim()[0]-(ax1.get_ylim()[1]-ax1.get_ylim()[0])*0.15,r'\"\\textit{antinodal}\"',fontsize=fs)\n",
    "ax1.text(ax1.get_xlim()[1]*0.9,ax1.get_ylim()[0]-(ax1.get_ylim()[1]-ax1.get_ylim()[0])*0.15,r'\"\\textit{nodal}\"',fontsize=fs)\n",
    "#yticks1 = np.arange(ax1.get_ylim()[0]+(ax1.get_ylim()[1]-ax1.get_ylim()[0])/6.,ax1.get_ylim()[1]+(ax1.get_ylim()[1]-ax1.get_ylim()[0])/6.,(ax1.get_ylim()[1]-ax1.get_ylim()[0])/6.)\n",
    "#ax1.set_yticks(yticks1 )\n",
    "ax1.yaxis.set_major_locator(MaxNLocator(4))\n",
    "ax2.yaxis.set_major_locator(MaxNLocator(4))\n",
    "plt.savefig(\"../images/juppy/z_and_gamma975.png\",dpi=300)\n",
    "#ax2.legend(fontsize=fs,loc=(0.8,0.8))\n"
   ]
  },
  {
   "cell_type": "code",
   "execution_count": 201,
   "metadata": {
    "collapsed": true
   },
   "outputs": [],
   "source": [
    "original_mu= -0.1912841796875*4.0\n",
    "def interacting_occ(gamma,temperature,t=1.0,tpri=-0.32,mu=original_mu): \n",
    "    def epsilon(k):return -2.*t*(np.cos(k[0])+np.cos(k[1]))-4.*tpri*np.cos(k[0])*np.cos(k[1]) - mu\n",
    "    def fermi (eps,temp): return 1./(1.+np.exp(eps/temp))\n",
    "    karray = np.array([[np.pi, ky] for ky  in  np.arange(0.0,np.pi,0.01)] )\n",
    "    non = np.array([2.*fermi(epsilon(k),temperature)  for k in karray ] )\n",
    "    inter = np.array([2.*fermi(epsilon(k),temperature-gamma/np.pi)  for k in karray ] )\n",
    "    return non, inter    \n",
    "    "
   ]
  }
 ],
 "metadata": {
  "kernelspec": {
   "display_name": "Python 2",
   "language": "python",
   "name": "python2"
  },
  "language_info": {
   "codemirror_mode": {
    "name": "ipython",
    "version": 2
   },
   "file_extension": ".py",
   "mimetype": "text/x-python",
   "name": "python",
   "nbconvert_exporter": "python",
   "pygments_lexer": "ipython2",
   "version": "2.7.13"
  }
 },
 "nbformat": 4,
 "nbformat_minor": 2
}
