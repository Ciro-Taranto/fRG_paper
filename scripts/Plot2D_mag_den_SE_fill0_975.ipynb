{
 "cells": [
  {
   "cell_type": "code",
   "execution_count": 2,
   "metadata": {
    "collapsed": true
   },
   "outputs": [],
   "source": [
    "import numpy as np\n",
    "from matplotlib import rc\n",
    "import matplotlib.pyplot as plt\n",
    "%matplotlib inline"
   ]
  },
  {
   "cell_type": "code",
   "execution_count": 4,
   "metadata": {},
   "outputs": [
    {
     "data": {
      "text/plain": [
       "<matplotlib.figure.Figure at 0x7fd8d80534d0>"
      ]
     },
     "metadata": {},
     "output_type": "display_data"
    },
    {
     "data": {
      "image/png": "[encoded data removed]",
      "text/plain": [
       "<matplotlib.figure.Figure at 0x7fd8dc01ff10>"
      ]
     },
     "metadata": {},
     "output_type": "display_data"
    }
   ],
   "source": [
    "plt.clf()\n",
    "\n",
    "# x and y are bounds, so z should be the value *inside* those bounds.\n",
    "# Therefore, remove the last value from the z array.\n",
    "z1 = np.loadtxt('../data/Phi_mag_SE_fill_0.975.txt')\n",
    "x1 = np.arange(-z1.shape[0]/2, z1.shape[0]/2)\n",
    "z2 = np.loadtxt('../data/Phi_den_SE_fill_0.975.txt')\n",
    "x2 = np.arange(-z2.shape[0]/2, z2.shape[0]/2)\n",
    "#levels = MaxNLocator(nbins=15).tick_values(z.min(), z.max())\n",
    "\n",
    "\n",
    "# pick the desired colormap, sensible levels, and define a normalization\n",
    "# instance which takes data values and translates those into levels.\n",
    "cmap = plt.get_cmap('Spectral')\n",
    "#norm = BoundaryNorm(levels, ncolors=cmap.N, clip=True)\n",
    "\n",
    "fig, (ax1, ax0) = plt.subplots(ncols=2)\n",
    "\n",
    "im = ax0.pcolormesh(x1,x1,z1, cmap=cmap)\n",
    "fig.colorbar(im, ax=ax0, shrink=0.52)\n",
    "ax0.set_title(r'$\\mathcal{M}^{\\mathrm{\\Lambda}_c}$, $\\mathbf{Q}=(\\pi,\\pi-\\delta)$, $\\Omega=0$', fontsize=14)\n",
    "ax0.set_aspect(1)\n",
    "ax0.set_xlim(x1[0],x1[-1])\n",
    "\n",
    "# contours are *point* based plots, so convert our bound into point\n",
    "# centers\n",
    "cf = ax1.pcolormesh(x2,x2,z2, cmap=cmap)\n",
    "fig.colorbar(cf, ax=ax1, shrink=0.52)\n",
    "ax1.set_title(r'$\\mathcal{C}^{\\mathrm{\\Lambda}_c}$, $\\mathbf{Q}=(0,0)$, $\\Omega=2\\pi/\\beta$', fontsize=14)\n",
    "ax1.set_aspect(1)\n",
    "ax1.set_xlim(x2[0],x2[-1])\n",
    "\n",
    "# adjust spacing between subplots so `ax1` title and `ax0` tick labels\n",
    "# don't overlap\n",
    "fig.tight_layout()\n",
    "plt.savefig('../images/Phi_color_SE_fill0.975.png',dpi=300)"
   ]
  },
  {
   "cell_type": "code",
   "execution_count": null,
   "metadata": {
    "collapsed": true
   },
   "outputs": [],
   "source": []
  }
 ],
 "metadata": {
  "kernelspec": {
   "display_name": "Python 2",
   "language": "python",
   "name": "python2"
  },
  "language_info": {
   "codemirror_mode": {
    "name": "ipython",
    "version": 2
   },
   "file_extension": ".py",
   "mimetype": "text/x-python",
   "name": "python",
   "nbconvert_exporter": "python",
   "pygments_lexer": "ipython2",
   "version": "2.7.13"
  }
 },
 "nbformat": 4,
 "nbformat_minor": 2
}
