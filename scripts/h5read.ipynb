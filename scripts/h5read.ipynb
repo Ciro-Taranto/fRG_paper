{
 "cells": [
  {
   "cell_type": "code",
   "execution_count": 7,
   "metadata": {
    "collapsed": true
   },
   "outputs": [],
   "source": [
    "import numpy as np\n",
    "import h5py"
   ]
  },
  {
   "cell_type": "code",
   "execution_count": 16,
   "metadata": {
    "collapsed": true
   },
   "outputs": [],
   "source": [
    "def genkgrid(filename): \n",
    "    with h5py.File(filename,'r') as f: \n",
    "        kx=np.array(f[\"DMF2RG/SelfEnergy/k_grid_x\"])\n",
    "        ky=np.array(f[\"DMF2RG/SelfEnergy/k_grid_y\"])\n",
    "        occ= f[\"Parameters/dmft_filling\"][0]\n",
    "        tpri=f[\"Parameters/tp\"][0]\n",
    "        \n",
    "    with open(\"../data/k_grid_tpri_\"+str(tpri)+\"_occ_\"+str(occ)+\".dat\",'w') as f: \n",
    "        for i in range(len(kx)): \n",
    "            f.write(str(kx[i])+\"\\t\"+str(ky[i])+\"\\n\")\n",
    "    print \"end\"\n",
    "    "
   ]
  },
  {
   "cell_type": "code",
   "execution_count": 17,
   "metadata": {},
   "outputs": [
    {
     "name": "stdout",
     "output_type": "stream",
     "text": [
      "end\n"
     ]
    }
   ],
   "source": [
    "filename = \"/home/taranto/Documents/dmf2rg_simple/data/tpri_0.080/tpri_0.080_doping-NOSE_-U1.0-beta50.0/execution_fill0.600/data/dat-last-step.h5\"\n",
    "genkgrid(filename)"
   ]
  },
  {
   "cell_type": "code",
   "execution_count": null,
   "metadata": {
    "collapsed": true
   },
   "outputs": [],
   "source": []
  }
 ],
 "metadata": {
  "kernelspec": {
   "display_name": "Python 2",
   "language": "python",
   "name": "python2"
  },
  "language_info": {
   "codemirror_mode": {
    "name": "ipython",
    "version": 2
   },
   "file_extension": ".py",
   "mimetype": "text/x-python",
   "name": "python",
   "nbconvert_exporter": "python",
   "pygments_lexer": "ipython2",
   "version": "2.7.13"
  }
 },
 "nbformat": 4,
 "nbformat_minor": 2
}
