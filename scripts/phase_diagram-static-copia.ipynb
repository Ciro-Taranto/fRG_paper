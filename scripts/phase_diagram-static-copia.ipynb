{
 "cells": [
  {
   "cell_type": "code",
   "execution_count": 1,
   "metadata": {
    "collapsed": true
   },
   "outputs": [],
   "source": [
    "import numpy as np \n",
    "import sys \n",
    "import matplotlib\n",
    "import matplotlib.pyplot as plt\n",
    "%matplotlib inline\n",
    "import time\n",
    "import random\n",
    "import os \n",
    "from matplotlib import colors as mcolors\n"
   ]
  },
  {
   "cell_type": "markdown",
   "metadata": {},
   "source": [
    "## Loading the data"
   ]
  },
  {
   "cell_type": "code",
   "execution_count": 2,
   "metadata": {
    "collapsed": true
   },
   "outputs": [],
   "source": [
    "filename = \"../data/rawdata_phasediag_tpri080.txt\"\n",
    "unsortdata =  np.loadtxt(filename,comments=\"#\")  \n",
    "data = np.array( [ unsortdata[i] for i in np.lexsort((-unsortdata[:,0], unsortdata[:,4], unsortdata [:,3], unsortdata[:,-1]) ) ] ) \n",
    "st = 50. # defines the stopping scale\n",
    "loc = np.where( (data[:,8] > st) | (data[:,9] > st) | (data[:,10] > st) |(data[:,11] > st)  ) \n",
    "data = data[loc]\n",
    "tpri   = sorted(set(data[:,3]))\n",
    "occs   = sorted(set(data[:,4]))\n",
    "top    = np.array([data[(data[:,4]== n) & (data[:,-1]==0.)][0] for n in occs])\n",
    "bottom = np.array([data[(data[:,4]== n) & (data[:,-1]==1.)][0] for n in occs])\n",
    "top    = top[np.argsort(top[:,4])] \n",
    "bottom = bottom[np.argsort(bottom[:,4])]"
   ]
  },
  {
   "cell_type": "code",
   "execution_count": 3,
   "metadata": {
    "collapsed": true
   },
   "outputs": [],
   "source": [
    "filename = \"../data/rawdata_phasediag_tpri080_static.txt\"\n",
    "unsortdata =  np.loadtxt(filename,comments=\"#\")  \n",
    "data = np.array( [ unsortdata[i] for i in np.lexsort((-unsortdata[:,0], unsortdata[:,4], unsortdata [:,3], unsortdata[:,-1]) ) ] ) \n",
    "st = 50. # defines the stopping scale\n",
    "loc = np.where( (data[:,8] > st) | (data[:,9] > st) | (data[:,10] > st) |(data[:,11] > st)  ) \n",
    "data = data[loc]\n",
    "tpri   = sorted(set(data[:,3]))\n",
    "occs   = sorted(set(data[:,4]))\n",
    "top_st = np.array([data[(data[:,4]== n) & (data[:,-1]==0.)][0] for n in occs])\n",
    "bottom = top_st #np.array([data[(data[:,4]== n) & (data[:,-1]==1.)][0] for n in occs])\n",
    "top_st = top_st[np.argsort(top[:,4])] \n",
    "bottom = bottom[np.argsort(bottom[:,4])]"
   ]
  },
  {
   "cell_type": "code",
   "execution_count": 4,
   "metadata": {
    "collapsed": true
   },
   "outputs": [],
   "source": [
    "def get_top(filename):\n",
    "    unsortdata =  np.loadtxt(filename,comments=\"#\")  \n",
    "    data = np.array( [ unsortdata[i] for i in np.lexsort((-unsortdata[:,0], unsortdata[:,4], unsortdata [:,3], unsortdata[:,-1]) ) ] ) \n",
    "    st = 0. # defines the stopping scale\n",
    "    loc = np.where( (data[:,8] > st) | (data[:,9] > st) | (data[:,10] > st) |(data[:,11] > st)  ) \n",
    "    data = data[loc]\n",
    "    tpri   = sorted(set(data[:,3]))\n",
    "    occs   = sorted(set(data[:,4]))\n",
    "    top    = np.array([data[(data[:,4]== n) & (data[:,-1]==0.) ][-1] for n in occs  ])\n",
    "    bottom = top\n",
    "    top    = top[np.argsort(top[:,4])] \n",
    "    bottom = bottom[np.argsort(bottom[:,4])]\n",
    "    vectorst,spant, rect = getvec(top)\n",
    "    return top, vectorst"
   ]
  },
  {
   "cell_type": "code",
   "execution_count": 10,
   "metadata": {},
   "outputs": [],
   "source": [
    "top_st, vectors_st = get_top(\"../data/rawdata_phasediag_tpri080_static.txt\")"
   ]
  },
  {
   "cell_type": "markdown",
   "metadata": {},
   "source": [
    "## Initialize figure and instability vectors"
   ]
  },
  {
   "cell_type": "code",
   "execution_count": 9,
   "metadata": {
    "collapsed": true
   },
   "outputs": [],
   "source": [
    "#fig = plt.figure(facecolor ='w') \n",
    "#possible instability vectors \n",
    "def getvec(arr): \n",
    "    vectors    = np.vstack({tuple(row) for row in np.array([[a[6],a[7],a[5]] for a in arr])})\n",
    "    wh = [np.where((arr[:,6]==v[0]) & (arr[:,7]==v[1])) for v in vectors]\n",
    "    span = np.array([[np.min(arr[w,4]),np.max(arr[w,4])] for w in wh])\n",
    "    vectors = vectors[np.argsort(span[:,0])]\n",
    "    span = span[np.argsort(span[:,0])]\n",
    "    rec = [1.-span[0][0]]\n",
    "    for i in range(span.shape[0]-1): rec.append(1.-(span[i][1]+span[i+1][0])/2.)\n",
    "    rec.append(1.-span[-1][1])\n",
    "    return vectors, span , rec\n",
    "vectors_st,span_st, rec_st = getvec(top_st)\n",
    "vectorst,spant, rect = getvec(top)"
   ]
  },
  {
   "cell_type": "code",
   "execution_count": 11,
   "metadata": {
    "collapsed": true
   },
   "outputs": [],
   "source": [
    "Blues = plt.get_cmap('Blues')\n",
    "Greens= plt.get_cmap('Greens')\n",
    "def asscol(arr,vectors,vectors2,cmap): \n",
    "    colmap  = plt.get_cmap(cmap)\n",
    "    offs    = 0.1 \n",
    "    def dpp(a,b): \n",
    "        return np.sqrt((a-np.pi)**2.+(b-np.pi)**2)\n",
    "    M=np.max([np.max([dpp(v[0],v[1]) for v in vectors[vectors[:,-1]==0.]]),\n",
    "              np.max([dpp(v[0],v[1]) for v in vectors2[vectors2[:,-1]==0.]])])\n",
    "    m=np.min([np.min([dpp(v[0],v[1]) for v in vectors[vectors[:,-1]==0.]]),\n",
    "              np.min([dpp(v[0],v[1]) for v in vectors2[vectors2[:,-1]==0.]])])\n",
    "    d = [ dpp(v[0],v[1])*(1.-offs)/(M-m)for v in vectors] # how much each vector is close to pi,pi\n",
    "    colspan = [colmap(d[i]) if vectors[i,-1]==0. else matplotlib.colors.to_rgb(\"black\")  for i in range(vectors.shape[0])] \n",
    "    def cond(i,j): \n",
    "        return (arr[i][6]==vectors[j][0]) & (arr[i][7]==vectors[j][1]) & (arr[i,5] == vectors[j][2])\n",
    "    return [ [colspan[j] for j in range(vectors.shape[0]) if cond(i,j)][0]   for i in range(arr.shape[0])]    \n",
    "def marks(arr): \n",
    "    return  ['o' if a[5]==0 else '*' for a in arr ]\n",
    "#asscol(top,vectorst,'Blues')"
   ]
  },
  {
   "cell_type": "code",
   "execution_count": 12,
   "metadata": {
    "collapsed": true
   },
   "outputs": [],
   "source": [
    "inco  =  np.where ( (top[:,5] ==0. ) & ( (np.abs(top[:,6]-np.pi)>1.e-1)  | (np.abs(top[:,7] -np.pi) > 1.e-1)) )\n",
    "comme =  np.where (top[:,5] ==0. ) and np.where (  (np.abs(top[:,6]-np.pi)<1.e-1)  & (np.abs(top[:,7] -np.pi) < 1.e-1) )\n",
    "char  =  np.where (top[:,5] ==1.)\n",
    "inco_st  =  np.where ( (top_st[:,5] ==0. ) & ( (np.abs(top_st[:,6]-np.pi)>1.e-1)  | (np.abs(top_st[:,7] -np.pi) > 1.e-1)) )\n",
    "comme_st =  np.where (top_st[:,5] ==0. ) and np.where (  (np.abs(top_st[:,6]-np.pi)<1.e-1)  & (np.abs(top_st[:,7] -np.pi) < 1.e-1) )\n",
    "char_st  =  np.where (top_st[:,5] ==1.)"
   ]
  },
  {
   "cell_type": "code",
   "execution_count": 15,
   "metadata": {},
   "outputs": [
    {
     "data": {
      "image/png": "[encoded data removed]",
      "text/plain": [
       "<matplotlib.figure.Figure at 0x7f690a83b6d0>"
      ]
     },
     "metadata": {},
     "output_type": "display_data"
    }
   ],
   "source": [
    "fig=plt.figure()\n",
    "def form(a): \n",
    "    return \"{:3.2f}\".format(a)\n",
    "\n",
    "ax = fig.add_subplot(111)\n",
    "ax2=ax.twinx()\n",
    "\n",
    "lcol=np.array(asscol(top,vectorst,vectors_st,'Reds'))[inco]\n",
    "commcol = np.array(asscol(top,vectorst,vectors_st,'Reds'))[comme]\n",
    "lcol_st=np.array(asscol(top_st,vectors_st,vectorst,'Reds'))[inco_st]\n",
    "commcol_st = np.array(asscol(top_st,vectors_st,vectorst,'Reds'))[comme_st]\n",
    " \n",
    "def util(a):\n",
    "    #return 1.-(1.-a)**2 \n",
    "    return a\n",
    "\n",
    "\n",
    "\n",
    "ax.scatter(1.-top[inco,4],util(top[inco,0]),c=lcol, marker='s',edgecolor='black', linewidth='0.6', label = r'iAF/AF, dyn')#,label =r'without $\\Sigma$')\n",
    "ax.scatter(1.-top[comme,4],util(top[comme,0]),c=commcol, marker='s',edgecolor='black', linewidth='0.6')#, label = r'AF, dyn')\n",
    "ax.plot(1.-top[:,4],util(top[:,0]),color='grey',linestyle='dotted')\n",
    "\n",
    "if np.sum([1. for v in top[top[:,5]==1.]])>0.5 :     \n",
    "    #ax.axvspan(1.-np.min(top[top[:,5]==1,4]),1.-np.max(top[top[:,5]==1,4]),linestyle ='dashed',color = 'grey',alpha=0.2)\n",
    "    ax.scatter(1.-top[top[:,5]==1.,4],util(top[top[:,5]==1.,0]),c='black', s = 100.0, marker='*', edgecolor='black', linewidth='0.6',label =r'Charge, dyn')#,label =r'without $\\Sigma$')\n",
    "\n",
    "\n",
    "ax.scatter(1.-top_st[inco_st,4],util(top_st[inco_st,0]),c=lcol_st, marker='^',edgecolor='black', linewidth='0.6', label = r'iAF/AF, stat')#,label =r'without $\\Sigma$')\n",
    "ax.scatter(1.-top_st[comme_st,4],util(top_st[comme_st,0]),c=commcol_st, marker='^',edgecolor='black', linewidth='0.6')#, label = r'AF, stat')\n",
    "ax.plot(1.-top_st[:,4],util(top_st[:,0]),color='grey',linestyle='dotted')\n",
    "\n",
    "rectangles = False\n",
    "if rectangles : \n",
    "    for i in range(1,vectorsb.shape[0]-1): \n",
    "        #lab = r'('+form(vectorsb[i][0])+r','+form(vectorsb[i][1])+r')'\n",
    "        ax.axvspan(recb[i],recb[i+1],alpha=0.5,fill=False, linestyle = 'dashed')# color = colorsb[i],label=lab) \n",
    "    for i in range(1,vectorst.shape[0]-1):\n",
    "        ax.axvspan(rect[i],rect[i+1],alpha=0.5,fill=False, linestyle = 'dotted')\n",
    "#plt.axvspan(0.296,0.304,alpha=0.3,fill='indigo')\n",
    "#plt.ylim([-0.01, 0.21])\n",
    "plt.xlim([0.0175,0.41])\n",
    "#ax.grid(linestyle='dashed')\n",
    "ax.set_xlabel(r\"$x$\",fontsize=20)\n",
    "ax.set_ylabel(r\"$1-\\Lambda_{\\mathrm{c}}$\",fontsize=20)\n",
    "\n",
    "#\n",
    "# Ax2\n",
    "#\n",
    "ax2.plot(1.-top[:,4],top[:,11],color='steelblue',linestyle='solid',label=r'$\\mathcal{D}^{\\Lambda_\\mathrm{c}}$, dyn',alpha=1.0)\n",
    "ax2.plot(1.-top_st[:,4],top_st[:,11],color='seagreen',linestyle='dashed',label=r'$\\mathcal{D}^{\\Lambda_\\mathrm{c}}$, stat',alpha=1.0)\n",
    "\n",
    "\n",
    "ax2.legend(fontsize = 13,loc=(0.5,0.45))\n",
    "ax.legend(fontsize = 13, loc=(0.025,0.45)) \n",
    "ax2.set_ylim([-0.1,13])\n",
    "ax2.set_ylabel(r\"$\\mathrm{max}~\\mathcal{D}^{\\Lambda_{c}}$\",fontsize=16)\n",
    "\n",
    "#plt.text(0.290,0.04,r\"$n_{\\mathrm{vh}}$\",fontsize=16)\n",
    "for i in  range(len(ax.get_legend().legendHandles)):\n",
    "    ax.get_legend().legendHandles[i].set_color('white')\n",
    "    ax.get_legend().legendHandles[i].set_edgecolor('black')\n",
    "plt.savefig('../images/phasediag_static.png',dpi=300) \n",
    "#os.system('geequie /home/taranto/Documents/fRG_paper/imaeges/criscale.png &')"
   ]
  },
  {
   "cell_type": "code",
   "execution_count": null,
   "metadata": {
    "collapsed": true
   },
   "outputs": [],
   "source": []
  },
  {
   "cell_type": "code",
   "execution_count": null,
   "metadata": {
    "collapsed": true
   },
   "outputs": [],
   "source": []
  }
 ],
 "metadata": {
  "kernelspec": {
   "display_name": "Python 2",
   "language": "python",
   "name": "python2"
  },
  "language_info": {
   "codemirror_mode": {
    "name": "ipython",
    "version": 2
   },
   "file_extension": ".py",
   "mimetype": "text/x-python",
   "name": "python",
   "nbconvert_exporter": "python",
   "pygments_lexer": "ipython2",
   "version": "2.7.13"
  }
 },
 "nbformat": 4,
 "nbformat_minor": 2
}
